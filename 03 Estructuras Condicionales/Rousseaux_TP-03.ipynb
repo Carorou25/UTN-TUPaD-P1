{
 "cells": [
  {
   "cell_type": "code",
   "execution_count": null,
   "id": "51e66394",
   "metadata": {},
   "outputs": [
    {
     "name": "stdout",
     "output_type": "stream",
     "text": [
      "Es mayor de edad\n"
     ]
    }
   ],
   "source": [
    "#Ejercicio1\n",
    "\n",
    "edad = int(input(\"Ingrese su edad: \")) \n",
    "\n",
    "if edad >= 18: \n",
    "    print(\"Es mayor de edad\") "
   ]
  },
  {
   "cell_type": "code",
   "execution_count": null,
   "id": "df1a72aa",
   "metadata": {},
   "outputs": [
    {
     "name": "stdout",
     "output_type": "stream",
     "text": [
      "Aprobado!\n"
     ]
    }
   ],
   "source": [
    "#Ejercicio2\n",
    "\n",
    "nota = int(input(\"Ingrese su nota: \"))\n",
    "\n",
    "if nota >= 6:\n",
    "    print(\"Aprobado!\")\n",
    "else:\n",
    "    print(\"Desaprobado!\") "
   ]
  },
  {
   "cell_type": "code",
   "execution_count": null,
   "id": "24b1569c",
   "metadata": {},
   "outputs": [],
   "source": [
    "#Ejercicio3\n",
    "\n",
    "numero = int(input(\"Ingrese un numero: \"))\n",
    "\n",
    "if numero % 2 == 0: \n",
    "    print(\"Usted ha ingresado un numero par.\")\n",
    "else:\n",
    "    print(\"Por favor, ingrese un numero par.\")    "
   ]
  },
  {
   "cell_type": "code",
   "execution_count": null,
   "id": "51296e0e",
   "metadata": {},
   "outputs": [
    {
     "name": "stdout",
     "output_type": "stream",
     "text": [
      "Es un adulto\n"
     ]
    }
   ],
   "source": [
    "#Ejercicio4\n",
    "\n",
    "edad = int(input(\"Ingrese su edad: \"))\n",
    "\n",
    "if edad < 12: \n",
    "    print(\"Es un niño/a\") \n",
    "\n",
    "elif edad >=12 and edad < 18:\n",
    "    print(\"Es un adolescente\")\n",
    "elif edad >= 18 and edad < 30: \n",
    "    print(\"Es un adulto/a joven\")\n",
    "else:\n",
    "    print(\"Es un adulto\")          \n"
   ]
  },
  {
   "cell_type": "code",
   "execution_count": null,
   "id": "bc75a0b8",
   "metadata": {},
   "outputs": [
    {
     "name": "stdout",
     "output_type": "stream",
     "text": [
      "Por favor ingrese una contraseña de entre 8 y 14 caracteres.\n"
     ]
    }
   ],
   "source": [
    "# Ejercicio5\n",
    "\n",
    "contraseña = str(input(\"Ingrese una contraseña: \"))\n",
    "longitud = len(contraseña) \n",
    "\n",
    "if longitud >= 8 and longitud <=14:\n",
    "    print(\"Ha ingresado una contraseña correcta\")\n",
    "else:\n",
    "    print(\"Por favor ingrese una contraseña de entre 8 y 14 caracteres.\")     "
   ]
  },
  {
   "cell_type": "code",
   "execution_count": null,
   "id": "f8f4b22d",
   "metadata": {},
   "outputs": [
    {
     "name": "stdout",
     "output_type": "stream",
     "text": [
      "[22, 87, 20, 58, 87, 85, 49, 71, 29, 19, 4, 4, 82, 71, 12, 46, 93, 32, 65, 84]\n",
      "51\n",
      "53.5\n",
      "87\n",
      "Dsitribución con sesgo negativo.\n"
     ]
    }
   ],
   "source": [
    "#Ejercicio6\n",
    "\n",
    "import random \n",
    "\n",
    "from statistics import mode, median, mean \n",
    "\n",
    "numeros_aleatorios = [random.randint(1,100) for i in range(20)] \n",
    "\n",
    "media = mean(numeros_aleatorios) \n",
    "mediana = median(numeros_aleatorios) \n",
    "moda = mode(numeros_aleatorios) \n",
    "\n",
    "print(numeros_aleatorios)\n",
    "print(media)\n",
    "print(mediana)\n",
    "print(moda) \n",
    "\n",
    "if media > mediana and mediana > moda:\n",
    "    print(\"Distribución con sesgo positivo.\") \n",
    "elif media < mediana and mediana < moda:\n",
    "    print(\"Distribución con sesgo negativo.\") \n",
    "elif media == mediana == moda:\n",
    "    print(\"Distribución sin sesgo.\")\n",
    "else: \n",
    "    print(\"No se puede determinar el sesgo\")         \n"
   ]
  },
  {
   "cell_type": "code",
   "execution_count": null,
   "id": "6a10ad9c",
   "metadata": {},
   "outputs": [
    {
     "name": "stdout",
     "output_type": "stream",
     "text": [
      "jghd\n"
     ]
    }
   ],
   "source": [
    "#Ejercicio7\n",
    "\n",
    "palabra = str(input(\"Ingrese una palabra\")) \n",
    "\n",
    "if palabra.lower().endswith(('a','e','i','o''u')):   #En este caso utilice la funcion endswith para poder determinar si termina en vocal la palabra. \n",
    "    palabra += '!'\n",
    "    print(palabra)\n",
    "else:\n",
    "    print(palabra)     \n",
    "\n"
   ]
  },
  {
   "cell_type": "code",
   "execution_count": null,
   "id": "83c2a4a0",
   "metadata": {},
   "outputs": [
    {
     "name": "stdout",
     "output_type": "stream",
     "text": [
      "Menú\n",
      "1. Nombre en mayúsculas. \n",
      "2. Nombre en minúsculas\n",
      "3. Nombre con primera letra en mayúscula\n",
      "Caro\n"
     ]
    }
   ],
   "source": [
    "#Ejercicio8\n",
    "\n",
    "nombre = str(input(\"Ingrese su nombre: \"))\n",
    "\n",
    "\n",
    "def menu():    # Utilizo la funcion def en este caso para crear un menu de opciones. Y en funcion de la opcion seleccionada, se va desarrollando la estructura condicional. \n",
    "\n",
    "    print(\"Menú\")\n",
    "    print(\"1. Nombre en mayúsculas. \")\n",
    "    print(\"2. Nombre en minúsculas\")\n",
    "    print(\"3. Nombre con primera letra en mayúscula\")\n",
    "\n",
    "menu()\n",
    "opcion = input(\"Seleccionar una opción:\")    \n",
    "\n",
    "if opcion == \"1\":\n",
    "    print(nombre.upper())\n",
    "elif opcion == \"2\":\n",
    "    print(nombre.lower()) \n",
    "elif opcion == \"3\": \n",
    "    print(nombre.title()) \n",
    "else:\n",
    "    print(\"Ingrese una opción válida\")        \n",
    "\n",
    "\n"
   ]
  },
  {
   "cell_type": "code",
   "execution_count": null,
   "id": "f1dc1ae3",
   "metadata": {},
   "outputs": [
    {
     "name": "stdout",
     "output_type": "stream",
     "text": [
      "Fuerte (puede causar daños en estructuras débiles.)\n"
     ]
    }
   ],
   "source": [
    "#Ejercicio9\n",
    "\n",
    "magnitud = float(input(\"Ingrese la magnitud del terremoto.\")) \n",
    "\n",
    "if magnitud < 3:\n",
    "    print(\"Muy leve (imperceptible)\")\n",
    "elif magnitud >= 3 and magnitud < 4: \n",
    "    print(\"Leve (ligeramente perceptible)\") \n",
    "elif magnitud >= 4 and magnitud < 5:\n",
    "    print(\"Moderado (sentido por personas, pero generalmente no causa daños)\") \n",
    "elif magnitud >= 5 and magnitud < 6:\n",
    "    print(\"Fuerte (puede causar daños en estructuras débiles)\")\n",
    "elif magnitud >= 6 and magnitud < 7: \n",
    "    print(\"Muy fuerte (puede causar daños significativos)\") \n",
    "elif magnitud >= 7:\n",
    "    print(\"Extremo (puede causar daños a gran escala)\")  \n",
    "else:\n",
    "    print(\"Datos incorrectos, ingrese un valor nuevamente\")           \n",
    "\n"
   ]
  },
  {
   "cell_type": "code",
   "execution_count": 14,
   "id": "4611c081",
   "metadata": {},
   "outputs": [
    {
     "name": "stdout",
     "output_type": "stream",
     "text": [
      "Es primavera en el hemisferio norte\n"
     ]
    }
   ],
   "source": [
    "#Ejercicio10\n",
    "\n",
    "hemisferio = str(input(\"Ingrese en que hemisferio se encuentra (N/S)\")).upper()\n",
    "mes = str(input(\"Ingrese mes del año: \")).lower()\n",
    "dia = int(input(\"Ingrese dia del mes: \")) \n",
    "\n",
    "\n",
    "if hemisferio == 'S': \n",
    "    if (mes == \"diciembre\" and dia >= 21) or (mes == \"enero\") or (mes == \"febrero\" ) or (mes == \"marzo\"and dia <= 20):\n",
    "        print(\"Es verano en el hemisferio sur\")\n",
    "    elif (mes == \"marzo\" and dia >= 21) or (mes == \"abril\") or (mes == \"mayo\") or (mes ==\"junio\" and dia <= 20):       \n",
    "        print(\"Es otoño en el hemisferio sur\") \n",
    "    elif (mes == \"junio\" and dia >= 21) or (mes == \"julio\") or (mes == \"agosto\") or (mes == \"septiembre\" and dia <= 20): \n",
    "        print(\"Es invierno en el hemisferio sur\") \n",
    "    elif (mes == \"septiembre\" and dia >= 21) or (mes == \"octubre\") or (mes == \"noviembre\") or (mes == \"diciembre\" and dia <= 20): \n",
    "        print(\"Es primavera en el hemisferio sur\") \n",
    "    else:\n",
    "        print(\"Fecha no válida.\")    \n",
    "elif hemisferio == 'N': \n",
    "    if (mes == \"diciembre\" and dia >= 21) or (mes == \"enero\") or (mes == \"febrero\" ) or (mes == \"marzo\"and dia <= 20):\n",
    "        print(\"Es invierno en el hemisferio norte\")\n",
    "    elif (mes == \"marzo\" and dia >= 21) or (mes == \"abril\") or (mes == \"mayo\") or (mes ==\"junio\" and dia <= 20):       \n",
    "        print(\"Es primavera en el hemisferio norte\") \n",
    "    elif (mes == \"junio\" and dia >= 21) or (mes == \"julio\") or (mes == \"agosto\") or (mes == \"septiembre\" and dia <= 20): \n",
    "        print(\"Es verano en el hemisferio norte\") \n",
    "    elif (mes == \"septiembre\" and dia >= 21) or (mes == \"octubre\") or (mes == \"noviembre\") or (mes == \"diciembre\" and dia <= 20): \n",
    "        print(\"Es otoño en el hemisferio norte\") \n",
    "    else:\n",
    "        print(\"Fecha no válida.\")  \n",
    "else: \n",
    "    print(\"Error, hemisferio no válido. Ingrese los datos nuevamente.\")                 "
   ]
  }
 ],
 "metadata": {
  "kernelspec": {
   "display_name": "Python 3",
   "language": "python",
   "name": "python3"
  },
  "language_info": {
   "codemirror_mode": {
    "name": "ipython",
    "version": 3
   },
   "file_extension": ".py",
   "mimetype": "text/x-python",
   "name": "python",
   "nbconvert_exporter": "python",
   "pygments_lexer": "ipython3",
   "version": "3.12.4"
  }
 },
 "nbformat": 4,
 "nbformat_minor": 5
}
